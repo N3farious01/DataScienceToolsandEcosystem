{
  "metadata": {
    "kernelspec": {
      "name": "python",
      "display_name": "Python (Pyodide)",
      "language": "python"
    },
    "language_info": {
      "codemirror_mode": {
        "name": "python",
        "version": 3
      },
      "file_extension": ".py",
      "mimetype": "text/x-python",
      "name": "python",
      "nbconvert_exporter": "python",
      "pygments_lexer": "ipython3",
      "version": "3.8"
    }
  },
  "nbformat_minor": 5,
  "nbformat": 4,
  "cells": [
    {
      "id": "98a460d6-4c4e-4219-b162-d84d6bee7335",
      "cell_type": "markdown",
      "source": "# Data Science Tools and Ecosystem",
      "metadata": {}
    },
    {
      "id": "73d9e7cd-68fa-4e19-b4ad-5b6c5eaf7e98",
      "cell_type": "markdown",
      "source": "In this notebook, Data Science Tools and Ecosystem are summarized.",
      "metadata": {}
    },
    {
      "id": "a1814e08-1b41-4921-b210-013c6c7a8ef3",
      "cell_type": "markdown",
      "source": "# Objectives:",
      "metadata": {}
    },
    {
      "id": "46039dd6-963e-4015-83f8-ca7fa26124d3",
      "cell_type": "markdown",
      "source": "- List popular languages for Data Science\n- List commonly used libraries used by Data Scientists\n- Data Science Tools",
      "metadata": {}
    },
    {
      "id": "5ca4c927-de28-4b63-a5bb-3c7baacb9dc2",
      "cell_type": "markdown",
      "source": "Some of the popular languages that Data Scientists use are:",
      "metadata": {}
    },
    {
      "id": "3782bf74-a702-40f0-b169-752659b9b62a",
      "cell_type": "markdown",
      "source": "1. Python\n2. R \n3. Julia",
      "metadata": {}
    },
    {
      "id": "2adbf4d5-e9c8-4404-b5c5-76df170140bc",
      "cell_type": "markdown",
      "source": "Some of the commonly used libraries used by Data Scientists include:",
      "metadata": {}
    },
    {
      "id": "a18fa0c1-dddf-4227-b345-399e81299be6",
      "cell_type": "markdown",
      "source": "1. NumPy\n2. Pandas\n3. Matplotlib",
      "metadata": {}
    },
    {
      "id": "ab6a7dc5-4dd1-42cd-806f-52379064ff5e",
      "cell_type": "markdown",
      "source": "| Data Science Tools |\n|--------------------|\n|Jupyter Notebook|\n|PyCharm|\n|Visual Studio Code|",
      "metadata": {}
    },
    {
      "id": "db03f295-3613-42c2-aeab-edfb89b6d44b",
      "cell_type": "markdown",
      "source": "### Below are a few examples of evaluating arithmetic expressions in Python",
      "metadata": {}
    },
    {
      "id": "ef6cd106-685f-4e7d-86ba-991b27ae2b7b",
      "cell_type": "code",
      "source": "# This a simple arithmetic expression to mutiply then add integers\n(3*4)+5",
      "metadata": {
        "trusted": true
      },
      "outputs": [
        {
          "execution_count": 4,
          "output_type": "execute_result",
          "data": {
            "text/plain": "17"
          },
          "metadata": {}
        }
      ],
      "execution_count": 4
    },
    {
      "id": "0c3c6e48-ce3b-4c47-8d8c-6b55fb58d308",
      "cell_type": "code",
      "source": "# This will convert 200 minutes to hours by diving by 60\n200/60",
      "metadata": {
        "trusted": true
      },
      "outputs": [
        {
          "execution_count": 5,
          "output_type": "execute_result",
          "data": {
            "text/plain": "3.3333333333333335"
          },
          "metadata": {}
        }
      ],
      "execution_count": 5
    },
    {
      "id": "0cd13705-5b2b-45b4-bd43-0a46b7390fcb",
      "cell_type": "markdown",
      "source": "## Author",
      "metadata": {}
    },
    {
      "id": "dc7fe332-9112-4f2b-8f23-0db417ad8db6",
      "cell_type": "markdown",
      "source": "Abdulaziz",
      "metadata": {}
    }
  ]
}